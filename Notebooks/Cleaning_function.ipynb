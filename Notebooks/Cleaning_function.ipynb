{
 "cells": [
  {
   "cell_type": "markdown",
   "id": "6047527c",
   "metadata": {},
   "source": [
    "# Cleaning function"
   ]
  },
  {
   "cell_type": "code",
   "execution_count": null,
   "id": "f4de21d6",
   "metadata": {},
   "outputs": [],
   "source": [
    "import pandas as pd\n",
    "\n",
    "def clean_data(df_demo, df_experiment_clients, df_web_data_pt_1, df_web_data_pt_2):\n",
    "    # Replace 'U' values with 'Unknown' and drop rows with 'X' values\n",
    "    df_demo_cleaned = df_demo.replace({'gendr': {'U': 'Unknown'}})\n",
    "    df_demo_cleaned = df_demo_cleaned[df_demo_cleaned['gendr'] != 'X']\n",
    "\n",
    "    # Drop rows with both 'U' and 'X' values\n",
    "    df_demo_dropped = df_demo[(df_demo['gendr'] != 'U') & (df_demo['gendr'] != 'X')]\n",
    "    \n",
    "    # Clean df_experiment_clients\n",
    "    df_experiment_clients_cleaned = df_experiment_clients.copy()\n",
    "    df_experiment_clients_cleaned['Variation'] = df_experiment_clients_cleaned['Variation'].fillna('unknown_experiment')\n",
    "    \n",
    "    # Combine df_web_data_pt_1 and df_web_data_pt_2\n",
    "    df_web_data_combined = pd.concat([df_web_data_pt_1, df_web_data_pt_2], ignore_index=True)\n",
    "    df_web_data_combined.drop_duplicates(inplace=True)\n",
    "    \n",
    "    # Merge df_demo_cleaned and df_experiment_clients_cleaned\n",
    "    df_merged_demo_exp = pd.merge(df_demo_cleaned, df_experiment_clients_cleaned, on='client_id', how='inner')\n",
    "    \n",
    "    # Merge df_merged_demo_exp with df_web_data_combined\n",
    "    df_final_merged = pd.merge(df_merged_demo_exp, df_web_data_combined, on='client_id', how='left')\n",
    "    # Convert 'date_time' column to datetime objects\n",
    "    df_final_merged['date_time'] = pd.to_datetime(df_final_merged['date_time'])\n",
    "    \n",
    "    \n",
    "    .......\n",
    "    \n",
    "    return df_demo_dropped, df_demo_cleaned, df_experiment_clients_cleaned, df_web_data_combined, df_merged_demo_exp, df_final_merged\n"
   ]
  }
 ],
 "metadata": {
  "kernelspec": {
   "display_name": "project_environment_wk5",
   "language": "python",
   "name": "project_environment_wk5"
  },
  "language_info": {
   "codemirror_mode": {
    "name": "ipython",
    "version": 3
   },
   "file_extension": ".py",
   "mimetype": "text/x-python",
   "name": "python",
   "nbconvert_exporter": "python",
   "pygments_lexer": "ipython3",
   "version": "3.11.5"
  }
 },
 "nbformat": 4,
 "nbformat_minor": 5
}
